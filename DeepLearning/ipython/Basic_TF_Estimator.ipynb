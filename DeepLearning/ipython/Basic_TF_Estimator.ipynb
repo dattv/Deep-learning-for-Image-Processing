{
 "cells": [
  {
   "cell_type": "markdown",
   "metadata": {},
   "source": [
    "# Tensorflow Estimator [reference](https://ai.google/research/pubs/pub46369)\n",
    "\n",
    "##### This file is converted/produced from [TensorFlow Estimators: Managing Simplicity vs. Flexibility inHigh-Level Machine Learning Frameworks](https://arxiv.org/pdf/1708.02637.pdf)\n",
    "\n",
    "Tensorflow Estimator consists of only four methods:traintrains the model, given training data.evaluatecomputes evaluation metrics over test data,predictperforms inference on new data given a trained model, and finally,exportsavedmodelexports a SavedModel, a serialization formatwhich allows the model to be used in TensorFlow Serving, a prebuiltproduction server for TensorFlow models.\n",
    "\n",
    "1. the user confgures an Estimatorby passing a callback, the <b>model_fn</b>, to the constructor.  When one of its methods is called, Estimatorcreates a TensorFlow graph, sets up the input pipelinespecifed by the user in the arguments to the method,and then calls themodelfnwith appropriate arguments to gener-ate the graph representing the model.\n",
    "\n",
    "2. Estimatorhides some TensorFlow concepts, such asGraphandSession, from the user.\n",
    "\n",
    "3.  the Estimatorconstructor also receives a confguration object calledRunConfigwhich communicates every-thing that thisEstimatorneeds to know about the environment.\n",
    "\n",
    "4. in which the model will be run: how many workers are available,how often to save intermediate checkpoints.\n",
    "\n",
    "5. Estimatorcreates a new graph, andpossibly restores from checkpoint, every time a method is called.\n",
    "\n",
    "![Estimator Flow](./Basic_TF_Estimator_presentation/Estimator_flow.png)\n",
    "\n",
    "### Specifying inputs with inputfn\n",
    "Methodstrain,evaluate,andpredictall take an input function, which is expected to pro-duce two dictionaries:  \n",
    "<b>one containingTensors with inputs (fea-tures)</b>, \n",
    "and <b>one containingTensors with labels</b>\n",
    "\n",
    "### Specifying the model with modelfn\n",
    "themodelfn, which returns opsfor training, evaluation, or prediction, depending on which graphis being requested\n",
    "\n",
    "Conceptually, three entirely different graphs can be built, and different information is returned, depending on the mode parameterrepresenting the called method\n",
    "\n",
    "To work with the estimators, we’ve to become comfortable with two new concepts\n",
    "1. Feature columns:\n",
    "    Feature columns are specifications for how the model should interpret the input data\n",
    "    \n",
    "2. Input Function:\n",
    "    Input functions are used for passing input data to the model for training and evaluation\n",
    "    \n",
    "Basically workflow how to use [tensorflow estimator](https://medium.com/learning-machine-learning/introduction-to-tensorflow-estimators-part-1-39f9eb666bc7) including some step:\n",
    "1. Loading the libraries and dataset.\n",
    "2. Data proprocessing.\n",
    "3. Defining the feature columns.\n",
    "4. Building input function.\n",
    "5. Model instantiation, training and evaluation.\n",
    "6. Generating prediction.\n",
    "7. Visualizing the model and the loss metrics using Tensorboard.\n",
    "\n",
    "![feature_columns](./Basic_TF_Estimator_presentation/feature_columns.png)\n",
    "\n",
    "<b>The code below will re-implemented the [tf.estimator tutorial](https://guillaumegenthial.github.io/introduction-tensorflow-estimator.html) from [Guillaume Genthial blog](https://guillaumegenthial.github.io/)</b>\n",
    "\n",
    "## References\n",
    "[Understanding the Tensorflow Estimator API](https://www.lighttag.io/blog/tensorflow-estimator-api/)\n",
    "\n",
    "[TensorFlow Estimators: Managing Simplicity vs. Flexibility inHigh-Level Machine Learning Frameworks](https://arxiv.org/pdf/1708.02637.pdf)"
   ]
  },
  {
   "cell_type": "markdown",
   "metadata": {},
   "source": [
    "# Global configuration\n"
   ]
  },
  {
   "cell_type": "code",
   "execution_count": 1,
   "metadata": {},
   "outputs": [],
   "source": [
    "import logging\n",
    "from pathlib import Path\n",
    "import sys\n",
    "\n",
    "import tensorflow as tf\n",
    "\n",
    "# Setup logging\n",
    "Path('results').mkdir(exist_ok=True)\n",
    "tf.logging.set_verbosity(logging.INFO)\n",
    "handlers = [\n",
    "    logging.FileHandler('results/main.log'),\n",
    "    logging.StreamHandler(sys.stdout)\n",
    "]\n",
    "logging.getLogger('tensorflow').handlers = handlers\n"
   ]
  },
  {
   "cell_type": "markdown",
   "metadata": {},
   "source": [
    "# Model\n",
    "We do regression function f(x1, x2) = 2x\n",
    "The model will learn to define two parameter a, b in linear model a * x1 + b * x2\n",
    "\n",
    "so fisrt we construct model_fn"
   ]
  },
  {
   "cell_type": "markdown",
   "metadata": {},
   "source": [
    "# Feed data with tf.data\n",
    "\n",
    "1. The standard technique was to use a tf.placeholder that was updated through the run method of a tf.Session object. There was also an attempt of a more optimized input pipeline with threadings and queues.\n",
    "\n",
    "2. A better (and almost perfect) way of feeding data to your tensorflow model is to use a wonderful new tensorflow API called tf.data\n"
   ]
  },
  {
   "cell_type": "code",
   "execution_count": 2,
   "metadata": {
    "scrolled": true
   },
   "outputs": [
    {
     "name": "stdout",
     "output_type": "stream",
     "text": [
      "([b'I', b'am', b'digit', b'0'], 4)\n",
      "([b'I', b'am', b'digit', b'1'], 4)\n"
     ]
    }
   ],
   "source": [
    "def generator_fn():\n",
    "    for digit in range(2):\n",
    "        line = 'I am digit {}'.format(digit)\n",
    "        words = line.split()\n",
    "        yield [w.encode() for w in words], len(words)\n",
    "      \n",
    "for words in generator_fn():\n",
    "    print(words)\n"
   ]
  },
  {
   "cell_type": "code",
   "execution_count": 3,
   "metadata": {
    "scrolled": true
   },
   "outputs": [
    {
     "name": "stdout",
     "output_type": "stream",
     "text": [
      "From /home/dat/anaconda3/envs/py35/lib/python3.7/site-packages/tensorflow/python/data/ops/dataset_ops.py:429: py_func (from tensorflow.python.ops.script_ops) is deprecated and will be removed in a future version.\n",
      "Instructions for updating:\n",
      "tf.py_func is deprecated in TF V2. Instead, use\n",
      "    tf.py_function, which takes a python function which manipulates tf eager\n",
      "    tensors instead of numpy arrays. It's easy to convert a tf eager tensor to\n",
      "    an ndarray (just call tensor.numpy()) but having access to eager tensors\n",
      "    means `tf.py_function`s can use accelerators such as GPUs as well as\n",
      "    being differentiable using a gradient tape.\n",
      "    \n"
     ]
    }
   ],
   "source": [
    "shapes = ([None], ())\n",
    "types = (tf.string, tf.int32)\n",
    "\n",
    "dataset = tf.data.Dataset.from_generator(generator_fn, output_shapes=shapes, output_types=types)\n"
   ]
  },
  {
   "cell_type": "code",
   "execution_count": null,
   "metadata": {
    "scrolled": true
   },
   "outputs": [],
   "source": []
  },
  {
   "cell_type": "code",
   "execution_count": 4,
   "metadata": {},
   "outputs": [
    {
     "name": "stdout",
     "output_type": "stream",
     "text": [
      "(array([b'I', b'am', b'digit', b'0'], dtype=object), 4)\n",
      "(array([b'I', b'am', b'digit', b'1'], dtype=object), 4)\n"
     ]
    }
   ],
   "source": [
    "iterator = dataset.make_one_shot_iterator()\n",
    "node = iterator.get_next()\n",
    "with tf.Session() as sess:\n",
    "    print(sess.run(node))\n",
    "    print(sess.run(node))"
   ]
  },
  {
   "cell_type": "markdown",
   "metadata": {},
   "source": [
    "# Train the Estimator\n",
    "To train our model, we generate fake data\n"
   ]
  },
  {
   "cell_type": "code",
   "execution_count": 5,
   "metadata": {},
   "outputs": [],
   "source": [
    "def train_generator_fn():\n",
    "    for number in range(100):\n",
    "        yield [number, number] [2 * number]\n",
    "        \n",
    "def train_input_fn():\n",
    "    shapes, types = (2, 1), (tf.float32, tf.float32)\n",
    "    dataset = tf.data.Dataset.from_generator(train_generator_fn, output_types=types, output_shapes = shapes)\n",
    "    dataset = dataset.batch(20).repeat(200)\n",
    "    return dataset\n"
   ]
  },
  {
   "cell_type": "code",
   "execution_count": 6,
   "metadata": {},
   "outputs": [
    {
     "ename": "NameError",
     "evalue": "name 'model_fn' is not defined",
     "output_type": "error",
     "traceback": [
      "\u001b[0;31m---------------------------------------------------------------------------\u001b[0m",
      "\u001b[0;31mNameError\u001b[0m                                 Traceback (most recent call last)",
      "\u001b[0;32m<ipython-input-6-20384f743dfd>\u001b[0m in \u001b[0;36m<module>\u001b[0;34m\u001b[0m\n\u001b[0;32m----> 1\u001b[0;31m \u001b[0mestimator\u001b[0m \u001b[0;34m=\u001b[0m \u001b[0mtf\u001b[0m\u001b[0;34m.\u001b[0m\u001b[0mestimator\u001b[0m\u001b[0;34m.\u001b[0m\u001b[0mEstimator\u001b[0m\u001b[0;34m(\u001b[0m\u001b[0mmodel_fn\u001b[0m\u001b[0;34m,\u001b[0m \u001b[0;34m\"model\"\u001b[0m\u001b[0;34m,\u001b[0m \u001b[0mparams\u001b[0m\u001b[0;34m=\u001b[0m\u001b[0;34m{\u001b[0m\u001b[0;34m}\u001b[0m\u001b[0;34m)\u001b[0m\u001b[0;34m\u001b[0m\u001b[0;34m\u001b[0m\u001b[0m\n\u001b[0m\u001b[1;32m      2\u001b[0m \u001b[0mestimator\u001b[0m\u001b[0;34m.\u001b[0m\u001b[0mtrain\u001b[0m\u001b[0;34m(\u001b[0m\u001b[0mtrain_input_fn\u001b[0m\u001b[0;34m)\u001b[0m\u001b[0;34m\u001b[0m\u001b[0;34m\u001b[0m\u001b[0m\n",
      "\u001b[0;31mNameError\u001b[0m: name 'model_fn' is not defined"
     ]
    }
   ],
   "source": [
    "estimator = tf.estimator.Estimator(model_fn, \"model\", params={})\n",
    "estimator.train(train_input_fn)"
   ]
  },
  {
   "cell_type": "code",
   "execution_count": null,
   "metadata": {},
   "outputs": [],
   "source": []
  }
 ],
 "metadata": {
  "kernelspec": {
   "display_name": "Python 3",
   "language": "python",
   "name": "python3"
  },
  "language_info": {
   "codemirror_mode": {
    "name": "ipython",
    "version": 3
   },
   "file_extension": ".py",
   "mimetype": "text/x-python",
   "name": "python",
   "nbconvert_exporter": "python",
   "pygments_lexer": "ipython3",
   "version": "3.7.3"
  }
 },
 "nbformat": 4,
 "nbformat_minor": 2
}
