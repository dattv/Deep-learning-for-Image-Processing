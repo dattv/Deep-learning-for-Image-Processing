{
 "cells": [
  {
   "cell_type": "markdown",
   "metadata": {},
   "source": [
    "# Tensorflow Estimator [reference](https://ai.google/research/pubs/pub46369)\n",
    "\n",
    "To work with the estimators, we’ve to become comfortable with two new concepts\n",
    "1. Feature columns:\n",
    "    Feature columns are specifications for how the model should interpret the input data\n",
    "    \n",
    "2. Input Function:\n",
    "    Input functions are used for passing input data to the model for training and evaluation\n",
    "    \n",
    "Basically workflow how to use [tensorflow estimator](https://medium.com/learning-machine-learning/introduction-to-tensorflow-estimators-part-1-39f9eb666bc7) including some step:\n",
    "1. Loading the libraries and dataset.\n",
    "2. Data proprocessing.\n",
    "3. Defining the feature columns.\n",
    "4. Building input function.\n",
    "5. Model instantiation, training and evaluation.\n",
    "6. Generating prediction.\n",
    "7. Visualizing the model and the loss metrics using Tensorboard.\n",
    "\n",
    "![feature_columns](./Basic_TF_Estimator_presentation/feature_columns.png)"
   ]
  },
  {
   "cell_type": "code",
   "execution_count": 21,
   "metadata": {},
   "outputs": [],
   "source": [
    "import pandas as pd\n",
    "import numpy as np\n",
    "import matplotlib.pyplot as plt\n",
    "import tensorflow as tf\n",
    "plt.style.use(\"seaborn-colorblind\")"
   ]
  },
  {
   "cell_type": "code",
   "execution_count": 22,
   "metadata": {},
   "outputs": [
    {
     "ename": "SyntaxError",
     "evalue": "invalid syntax (<ipython-input-22-497fbfa8e409>, line 3)",
     "output_type": "error",
     "traceback": [
      "\u001b[0;36m  File \u001b[0;32m\"<ipython-input-22-497fbfa8e409>\"\u001b[0;36m, line \u001b[0;32m3\u001b[0m\n\u001b[0;31m    'instant_bookable', 'price']boston = pd.read_csv('boston_listings.csv', usecols = used_features)\u001b[0m\n\u001b[0m                                     ^\u001b[0m\n\u001b[0;31mSyntaxError\u001b[0m\u001b[0;31m:\u001b[0m invalid syntax\n"
     ]
    }
   ],
   "source": [
    "used_features = ['property_type','room_type','bathrooms','bedrooms','beds','bed_type','accommodates','host_total_listings_count'\n",
    "                ,'number_of_reviews','review_scores_value','neighbourhood_cleansed','cleaning_fee','minimum_nights','security_deposit','host_is_superhost',\n",
    "                 'instant_bookable', 'price']boston = pd.read_csv('boston_listings.csv', usecols = used_features)\n",
    "print(boston.shape)\n",
    "boston.head(2)"
   ]
  },
  {
   "cell_type": "code",
   "execution_count": 19,
   "metadata": {},
   "outputs": [],
   "source": [
    "class Model(object):\n",
    "    def __call__(self, inputs):\n",
    "        net = tf.layers.conv2d(inputs, 32, [5, 5], activation=tf.nn.relu, name='conv1')\n",
    "        net = tf.layers.max_pooling2d(net, [2, 2], 2, name='pool1')\n",
    "        net = tf.layers.conv2d(net, 64, [5, 5], activation=tf.nn.relu, name='conv2')\n",
    "\n",
    "        net = tf.layers.max_pooling2d(net, [2, 2], 2, name='pool2')\n",
    "        net = tf.layers.flatten(net)            \n",
    "\n",
    "        logits = tf.layers.dense(net, _NUM_CLASSES, activation=None, name='fc1')\n",
    "        return logits"
   ]
  },
  {
   "cell_type": "code",
   "execution_count": null,
   "metadata": {},
   "outputs": [],
   "source": []
  }
 ],
 "metadata": {
  "kernelspec": {
   "display_name": "Python 3",
   "language": "python",
   "name": "python3"
  },
  "language_info": {
   "codemirror_mode": {
    "name": "ipython",
    "version": 3
   },
   "file_extension": ".py",
   "mimetype": "text/x-python",
   "name": "python",
   "nbconvert_exporter": "python",
   "pygments_lexer": "ipython3",
   "version": "3.7.3"
  }
 },
 "nbformat": 4,
 "nbformat_minor": 2
}
